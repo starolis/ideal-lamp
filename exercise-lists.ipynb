{
 "cells": [
  {
   "cell_type": "markdown",
   "id": "de8492d8",
   "metadata": {
    "papermill": {
     "duration": 0.008174,
     "end_time": "2023-11-07T22:12:49.950933",
     "exception": false,
     "start_time": "2023-11-07T22:12:49.942759",
     "status": "completed"
    },
    "tags": []
   },
   "source": [
    "**This notebook is an exercise in the [Python](https://www.kaggle.com/learn/python) course.  You can reference the tutorial at [this link](https://www.kaggle.com/colinmorris/lists).**\n",
    "\n",
    "---\n"
   ]
  },
  {
   "cell_type": "markdown",
   "id": "eddccd85",
   "metadata": {
    "papermill": {
     "duration": 0.00593,
     "end_time": "2023-11-07T22:12:49.965426",
     "exception": false,
     "start_time": "2023-11-07T22:12:49.959496",
     "status": "completed"
    },
    "tags": []
   },
   "source": [
    "Things get more interesting with lists. You'll apply your new knowledge to solve the questions below. Remember to run the following cell first."
   ]
  },
  {
   "cell_type": "code",
   "execution_count": 1,
   "id": "1b74b71e",
   "metadata": {
    "execution": {
     "iopub.execute_input": "2023-11-07T22:12:49.980143Z",
     "iopub.status.busy": "2023-11-07T22:12:49.979660Z",
     "iopub.status.idle": "2023-11-07T22:12:50.409855Z",
     "shell.execute_reply": "2023-11-07T22:12:50.408839Z"
    },
    "papermill": {
     "duration": 0.44043,
     "end_time": "2023-11-07T22:12:50.412215",
     "exception": false,
     "start_time": "2023-11-07T22:12:49.971785",
     "status": "completed"
    },
    "tags": []
   },
   "outputs": [
    {
     "name": "stdout",
     "output_type": "stream",
     "text": [
      "Setup complete.\n"
     ]
    }
   ],
   "source": [
    "from learntools.core import binder; binder.bind(globals())\n",
    "from learntools.python.ex4 import *\n",
    "print('Setup complete.')"
   ]
  },
  {
   "cell_type": "markdown",
   "id": "80a969cb",
   "metadata": {
    "papermill": {
     "duration": 0.005944,
     "end_time": "2023-11-07T22:12:50.424593",
     "exception": false,
     "start_time": "2023-11-07T22:12:50.418649",
     "status": "completed"
    },
    "tags": []
   },
   "source": [
    "# 1.\n",
    "\n",
    "Complete the function below according to its docstring."
   ]
  },
  {
   "cell_type": "code",
   "execution_count": 2,
   "id": "403b67ca",
   "metadata": {
    "execution": {
     "iopub.execute_input": "2023-11-07T22:12:50.439182Z",
     "iopub.status.busy": "2023-11-07T22:12:50.438630Z",
     "iopub.status.idle": "2023-11-07T22:12:50.449581Z",
     "shell.execute_reply": "2023-11-07T22:12:50.448572Z"
    },
    "papermill": {
     "duration": 0.020958,
     "end_time": "2023-11-07T22:12:50.451838",
     "exception": false,
     "start_time": "2023-11-07T22:12:50.430880",
     "status": "completed"
    },
    "tags": []
   },
   "outputs": [
    {
     "data": {
      "application/javascript": [
       "parent.postMessage({\"jupyterEvent\": \"custom.exercise_interaction\", \"data\": {\"outcomeType\": 1, \"valueTowardsCompletion\": 0.2, \"interactionType\": 1, \"questionType\": 2, \"questionId\": \"1_SelectSecondItem\", \"learnToolsVersion\": \"0.3.4\", \"failureMessage\": \"\", \"exceptionClass\": \"\", \"trace\": \"\"}}, \"*\")"
      ],
      "text/plain": [
       "<IPython.core.display.Javascript object>"
      ]
     },
     "metadata": {},
     "output_type": "display_data"
    },
    {
     "data": {
      "text/markdown": [
       "<span style=\"color:#33cc33\">Correct</span>"
      ],
      "text/plain": [
       "Correct"
      ]
     },
     "metadata": {},
     "output_type": "display_data"
    }
   ],
   "source": [
    "def select_second(L):\n",
    "    \"\"\"Return the second element of the given list. If the list has no second\n",
    "    element, return None.\n",
    "    \"\"\"\n",
    "    if len(L) < 2:\n",
    "        return\n",
    "    else:\n",
    "        return L[1]\n",
    "\n",
    "# Check your answer\n",
    "q1.check()"
   ]
  },
  {
   "cell_type": "code",
   "execution_count": 3,
   "id": "741b1215",
   "metadata": {
    "collapsed": true,
    "execution": {
     "iopub.execute_input": "2023-11-07T22:12:50.467138Z",
     "iopub.status.busy": "2023-11-07T22:12:50.466731Z",
     "iopub.status.idle": "2023-11-07T22:12:50.471297Z",
     "shell.execute_reply": "2023-11-07T22:12:50.470254Z"
    },
    "jupyter": {
     "outputs_hidden": true
    },
    "papermill": {
     "duration": 0.01486,
     "end_time": "2023-11-07T22:12:50.473554",
     "exception": false,
     "start_time": "2023-11-07T22:12:50.458694",
     "status": "completed"
    },
    "tags": []
   },
   "outputs": [],
   "source": [
    "#q1.hint()\n",
    "#q1.solution()"
   ]
  },
  {
   "cell_type": "markdown",
   "id": "c5b7d7d6",
   "metadata": {
    "papermill": {
     "duration": 0.006397,
     "end_time": "2023-11-07T22:12:50.486695",
     "exception": false,
     "start_time": "2023-11-07T22:12:50.480298",
     "status": "completed"
    },
    "tags": []
   },
   "source": [
    "# 2.\n",
    "\n",
    "You are analyzing sports teams.  Members of each team are stored in a list. The Coach is the first name in the list, the captain is the second name in the list, and other players are listed after that. \n",
    "These lists are stored in another list, which starts with the best team and proceeds through the list to the worst team last.  Complete the function below to select the **captain** of the worst team."
   ]
  },
  {
   "cell_type": "code",
   "execution_count": 4,
   "id": "df7ee44d",
   "metadata": {
    "execution": {
     "iopub.execute_input": "2023-11-07T22:12:50.501841Z",
     "iopub.status.busy": "2023-11-07T22:12:50.500939Z",
     "iopub.status.idle": "2023-11-07T22:12:50.510661Z",
     "shell.execute_reply": "2023-11-07T22:12:50.509597Z"
    },
    "papermill": {
     "duration": 0.019578,
     "end_time": "2023-11-07T22:12:50.512847",
     "exception": false,
     "start_time": "2023-11-07T22:12:50.493269",
     "status": "completed"
    },
    "tags": []
   },
   "outputs": [
    {
     "data": {
      "application/javascript": [
       "parent.postMessage({\"jupyterEvent\": \"custom.exercise_interaction\", \"data\": {\"outcomeType\": 1, \"valueTowardsCompletion\": 0.2, \"interactionType\": 1, \"questionType\": 2, \"questionId\": \"2_LosingTeamCaptain\", \"learnToolsVersion\": \"0.3.4\", \"failureMessage\": \"\", \"exceptionClass\": \"\", \"trace\": \"\"}}, \"*\")"
      ],
      "text/plain": [
       "<IPython.core.display.Javascript object>"
      ]
     },
     "metadata": {},
     "output_type": "display_data"
    },
    {
     "data": {
      "text/markdown": [
       "<span style=\"color:#33cc33\">Correct</span>"
      ],
      "text/plain": [
       "Correct"
      ]
     },
     "metadata": {},
     "output_type": "display_data"
    }
   ],
   "source": [
    "def losing_team_captain(teams):\n",
    "    \"\"\"Given a list of teams, where each team is a list of names, return the 2nd player (captain)\n",
    "    from the last listed team\n",
    "    \"\"\"\n",
    "    return teams[len(teams)-1][1]\n",
    "\n",
    "# Check your answer\n",
    "q2.check()"
   ]
  },
  {
   "cell_type": "code",
   "execution_count": 5,
   "id": "6ed7da23",
   "metadata": {
    "collapsed": true,
    "execution": {
     "iopub.execute_input": "2023-11-07T22:12:50.528626Z",
     "iopub.status.busy": "2023-11-07T22:12:50.527883Z",
     "iopub.status.idle": "2023-11-07T22:12:50.532917Z",
     "shell.execute_reply": "2023-11-07T22:12:50.531782Z"
    },
    "jupyter": {
     "outputs_hidden": true
    },
    "papermill": {
     "duration": 0.01517,
     "end_time": "2023-11-07T22:12:50.534989",
     "exception": false,
     "start_time": "2023-11-07T22:12:50.519819",
     "status": "completed"
    },
    "tags": []
   },
   "outputs": [],
   "source": [
    "#q2.hint()\n",
    "#q2.solution()"
   ]
  },
  {
   "cell_type": "markdown",
   "id": "4c8908b3",
   "metadata": {
    "papermill": {
     "duration": 0.006627,
     "end_time": "2023-11-07T22:12:50.548536",
     "exception": false,
     "start_time": "2023-11-07T22:12:50.541909",
     "status": "completed"
    },
    "tags": []
   },
   "source": [
    "# 3.\n",
    "\n",
    "The next iteration of Mario Kart will feature an extra-infuriating new item, the *Purple Shell*. When used, it warps the last place racer into first place and the first place racer into last place. Complete the function below to implement the Purple Shell's effect."
   ]
  },
  {
   "cell_type": "code",
   "execution_count": 6,
   "id": "2612cc00",
   "metadata": {
    "execution": {
     "iopub.execute_input": "2023-11-07T22:12:50.563624Z",
     "iopub.status.busy": "2023-11-07T22:12:50.563260Z",
     "iopub.status.idle": "2023-11-07T22:12:50.573340Z",
     "shell.execute_reply": "2023-11-07T22:12:50.572132Z"
    },
    "papermill": {
     "duration": 0.020234,
     "end_time": "2023-11-07T22:12:50.575523",
     "exception": false,
     "start_time": "2023-11-07T22:12:50.555289",
     "status": "completed"
    },
    "tags": []
   },
   "outputs": [
    {
     "data": {
      "application/javascript": [
       "parent.postMessage({\"jupyterEvent\": \"custom.exercise_interaction\", \"data\": {\"outcomeType\": 1, \"valueTowardsCompletion\": 0.2, \"interactionType\": 1, \"questionType\": 2, \"questionId\": \"3_PurpleShell\", \"learnToolsVersion\": \"0.3.4\", \"failureMessage\": \"\", \"exceptionClass\": \"\", \"trace\": \"\"}}, \"*\")"
      ],
      "text/plain": [
       "<IPython.core.display.Javascript object>"
      ]
     },
     "metadata": {},
     "output_type": "display_data"
    },
    {
     "data": {
      "text/markdown": [
       "<span style=\"color:#33cc33\">Correct</span>"
      ],
      "text/plain": [
       "Correct"
      ]
     },
     "metadata": {},
     "output_type": "display_data"
    }
   ],
   "source": [
    "def purple_shell(racers):\n",
    "    \"\"\"Given a list of racers, set the first place racer (at the front of the list) to last\n",
    "    place and vice versa.\n",
    "    \n",
    "    >>> r = [\"Mario\", \"Bowser\", \"Luigi\"]\n",
    "    >>> purple_shell(r)\n",
    "    >>> r\n",
    "    [\"Luigi\", \"Bowser\", \"Mario\"]\n",
    "    \"\"\"\n",
    "    racers_temp = racers[0]\n",
    "    racers[0] = racers[len(racers)-1]\n",
    "    racers[len(racers)-1] = racers_temp\n",
    "\n",
    "# Check your answer\n",
    "q3.check()"
   ]
  },
  {
   "cell_type": "code",
   "execution_count": 7,
   "id": "2209050e",
   "metadata": {
    "collapsed": true,
    "execution": {
     "iopub.execute_input": "2023-11-07T22:12:50.591201Z",
     "iopub.status.busy": "2023-11-07T22:12:50.590851Z",
     "iopub.status.idle": "2023-11-07T22:12:50.595373Z",
     "shell.execute_reply": "2023-11-07T22:12:50.594371Z"
    },
    "jupyter": {
     "outputs_hidden": true
    },
    "papermill": {
     "duration": 0.014817,
     "end_time": "2023-11-07T22:12:50.597453",
     "exception": false,
     "start_time": "2023-11-07T22:12:50.582636",
     "status": "completed"
    },
    "tags": []
   },
   "outputs": [],
   "source": [
    "#q3.hint()\n",
    "#q3.solution()"
   ]
  },
  {
   "cell_type": "markdown",
   "id": "8478a665",
   "metadata": {
    "papermill": {
     "duration": 0.006939,
     "end_time": "2023-11-07T22:12:50.611468",
     "exception": false,
     "start_time": "2023-11-07T22:12:50.604529",
     "status": "completed"
    },
    "tags": []
   },
   "source": [
    "# 4.\n",
    "\n",
    "What are the lengths of the following lists? Fill in the variable `lengths` with your predictions. (Try to make a prediction for each list *without* just calling `len()` on it.)"
   ]
  },
  {
   "cell_type": "code",
   "execution_count": 8,
   "id": "b1fc6b5e",
   "metadata": {
    "execution": {
     "iopub.execute_input": "2023-11-07T22:12:50.628686Z",
     "iopub.status.busy": "2023-11-07T22:12:50.627888Z",
     "iopub.status.idle": "2023-11-07T22:12:50.638324Z",
     "shell.execute_reply": "2023-11-07T22:12:50.637272Z"
    },
    "papermill": {
     "duration": 0.021332,
     "end_time": "2023-11-07T22:12:50.640487",
     "exception": false,
     "start_time": "2023-11-07T22:12:50.619155",
     "status": "completed"
    },
    "tags": []
   },
   "outputs": [
    {
     "data": {
      "application/javascript": [
       "parent.postMessage({\"jupyterEvent\": \"custom.exercise_interaction\", \"data\": {\"outcomeType\": 1, \"valueTowardsCompletion\": 0.2, \"interactionType\": 1, \"questionType\": 1, \"questionId\": \"4_UnderstandLen\", \"learnToolsVersion\": \"0.3.4\", \"failureMessage\": \"\", \"exceptionClass\": \"\", \"trace\": \"\"}}, \"*\")"
      ],
      "text/plain": [
       "<IPython.core.display.Javascript object>"
      ]
     },
     "metadata": {},
     "output_type": "display_data"
    },
    {
     "data": {
      "text/markdown": [
       "<span style=\"color:#33cc33\">Correct:</span> \n",
       "\n",
       "\n",
       "- a: There are three items in this list. Nothing tricky yet.\n",
       "- b: The list `[2, 3]` counts as a single item. It has one item before it. So we have 2 items in the list\n",
       "- c: The empty list has 0 items\n",
       "- d: The expression is the same as the list `[2, 3]`, which has length 2."
      ],
      "text/plain": [
       "Correct: \n",
       "\n",
       "\n",
       "- a: There are three items in this list. Nothing tricky yet.\n",
       "- b: The list `[2, 3]` counts as a single item. It has one item before it. So we have 2 items in the list\n",
       "- c: The empty list has 0 items\n",
       "- d: The expression is the same as the list `[2, 3]`, which has length 2."
      ]
     },
     "metadata": {},
     "output_type": "display_data"
    }
   ],
   "source": [
    "a = [1, 2, 3]\n",
    "b = [1, [2, 3]]\n",
    "c = []\n",
    "d = [1, 2, 3][1:]\n",
    "\n",
    "# Put your predictions in the list below. Lengths should contain 4 numbers, the\n",
    "# first being the length of a, the second being the length of b and so on.\n",
    "lengths = [3, 2, 0, 2]\n",
    "\n",
    "# Check your answer\n",
    "q4.check()"
   ]
  },
  {
   "cell_type": "code",
   "execution_count": 9,
   "id": "4a144db8",
   "metadata": {
    "collapsed": true,
    "execution": {
     "iopub.execute_input": "2023-11-07T22:12:50.658185Z",
     "iopub.status.busy": "2023-11-07T22:12:50.657211Z",
     "iopub.status.idle": "2023-11-07T22:12:50.661999Z",
     "shell.execute_reply": "2023-11-07T22:12:50.661030Z"
    },
    "jupyter": {
     "outputs_hidden": true
    },
    "papermill": {
     "duration": 0.01578,
     "end_time": "2023-11-07T22:12:50.664109",
     "exception": false,
     "start_time": "2023-11-07T22:12:50.648329",
     "status": "completed"
    },
    "tags": []
   },
   "outputs": [],
   "source": [
    "# line below provides some explanation\n",
    "#q4.solution()"
   ]
  },
  {
   "cell_type": "markdown",
   "id": "00b7bd77",
   "metadata": {
    "papermill": {
     "duration": 0.007673,
     "end_time": "2023-11-07T22:12:50.679497",
     "exception": false,
     "start_time": "2023-11-07T22:12:50.671824",
     "status": "completed"
    },
    "tags": []
   },
   "source": [
    "# 5. <span title=\"A bit spicy\" style=\"color: darkgreen \">🌶️</span>\n",
    "\n",
    "We're using lists to record people who attended our party and what order they arrived in. For example, the following list represents a party with 7 guests, in which Adela showed up first and Ford was the last to arrive:\n",
    "\n",
    "    party_attendees = ['Adela', 'Fleda', 'Owen', 'May', 'Mona', 'Gilbert', 'Ford']\n",
    "\n",
    "A guest is considered 'fashionably late' if they arrived after at least half of the party's guests. However, they must not be the very last guest (that's taking it too far). In the above example, Mona and Gilbert are the only guests who were fashionably late.\n",
    "\n",
    "Complete the function below which takes a list of party attendees as well as a person, and tells us whether that person is fashionably late."
   ]
  },
  {
   "cell_type": "code",
   "execution_count": 10,
   "id": "3670af1d",
   "metadata": {
    "execution": {
     "iopub.execute_input": "2023-11-07T22:12:50.696508Z",
     "iopub.status.busy": "2023-11-07T22:12:50.696111Z",
     "iopub.status.idle": "2023-11-07T22:12:50.705883Z",
     "shell.execute_reply": "2023-11-07T22:12:50.704885Z"
    },
    "papermill": {
     "duration": 0.020579,
     "end_time": "2023-11-07T22:12:50.707922",
     "exception": false,
     "start_time": "2023-11-07T22:12:50.687343",
     "status": "completed"
    },
    "tags": []
   },
   "outputs": [
    {
     "data": {
      "application/javascript": [
       "parent.postMessage({\"jupyterEvent\": \"custom.exercise_interaction\", \"data\": {\"outcomeType\": 1, \"valueTowardsCompletion\": 0.2, \"interactionType\": 1, \"questionType\": 2, \"questionId\": \"5_FashionablyLate\", \"learnToolsVersion\": \"0.3.4\", \"failureMessage\": \"\", \"exceptionClass\": \"\", \"trace\": \"\"}}, \"*\")"
      ],
      "text/plain": [
       "<IPython.core.display.Javascript object>"
      ]
     },
     "metadata": {},
     "output_type": "display_data"
    },
    {
     "data": {
      "text/markdown": [
       "<span style=\"color:#33cc33\">Correct</span>"
      ],
      "text/plain": [
       "Correct"
      ]
     },
     "metadata": {},
     "output_type": "display_data"
    }
   ],
   "source": [
    "def fashionably_late(arrivals, name):\n",
    "    \"\"\"Given an ordered list of arrivals to the party and a name, return whether the guest with that\n",
    "    name was fashionably late.\n",
    "    \"\"\"\n",
    "    middle_index = int(round(len(arrivals)/2, 0))\n",
    "    if name in arrivals[middle_index:-1]:\n",
    "        return True\n",
    "    else:\n",
    "        return False\n",
    "\n",
    "# Check your answer\n",
    "q5.check()"
   ]
  },
  {
   "cell_type": "code",
   "execution_count": 11,
   "id": "92e2f5b3",
   "metadata": {
    "collapsed": true,
    "execution": {
     "iopub.execute_input": "2023-11-07T22:12:50.725512Z",
     "iopub.status.busy": "2023-11-07T22:12:50.725151Z",
     "iopub.status.idle": "2023-11-07T22:12:50.729426Z",
     "shell.execute_reply": "2023-11-07T22:12:50.728438Z"
    },
    "jupyter": {
     "outputs_hidden": true
    },
    "papermill": {
     "duration": 0.015227,
     "end_time": "2023-11-07T22:12:50.731357",
     "exception": false,
     "start_time": "2023-11-07T22:12:50.716130",
     "status": "completed"
    },
    "tags": []
   },
   "outputs": [],
   "source": [
    "#q5.hint()\n",
    "#q5.solution()"
   ]
  },
  {
   "cell_type": "markdown",
   "id": "9f19a9c4",
   "metadata": {
    "papermill": {
     "duration": 0.008004,
     "end_time": "2023-11-07T22:12:50.747400",
     "exception": false,
     "start_time": "2023-11-07T22:12:50.739396",
     "status": "completed"
    },
    "tags": []
   },
   "source": [
    "# Keep Going\n",
    "\n",
    "That's it for lists and tuples! Now you have the baseline knowledge to **[learn about loops](https://www.kaggle.com/colinmorris/loops-and-list-comprehensions)**, which is where lists and tuples get really interesting. "
   ]
  },
  {
   "cell_type": "markdown",
   "id": "837a5f17",
   "metadata": {
    "papermill": {
     "duration": 0.008544,
     "end_time": "2023-11-07T22:12:50.763581",
     "exception": false,
     "start_time": "2023-11-07T22:12:50.755037",
     "status": "completed"
    },
    "tags": []
   },
   "source": [
    "---\n",
    "\n",
    "\n",
    "\n",
    "\n",
    "*Have questions or comments? Visit the [course discussion forum](https://www.kaggle.com/learn/python/discussion) to chat with other learners.*"
   ]
  }
 ],
 "metadata": {
  "kernelspec": {
   "display_name": "Python 3",
   "language": "python",
   "name": "python3"
  },
  "language_info": {
   "codemirror_mode": {
    "name": "ipython",
    "version": 3
   },
   "file_extension": ".py",
   "mimetype": "text/x-python",
   "name": "python",
   "nbconvert_exporter": "python",
   "pygments_lexer": "ipython3",
   "version": "3.10.12"
  },
  "papermill": {
   "default_parameters": {},
   "duration": 4.672022,
   "end_time": "2023-11-07T22:12:51.190935",
   "environment_variables": {},
   "exception": null,
   "input_path": "__notebook__.ipynb",
   "output_path": "__notebook__.ipynb",
   "parameters": {},
   "start_time": "2023-11-07T22:12:46.518913",
   "version": "2.4.0"
  }
 },
 "nbformat": 4,
 "nbformat_minor": 5
}
