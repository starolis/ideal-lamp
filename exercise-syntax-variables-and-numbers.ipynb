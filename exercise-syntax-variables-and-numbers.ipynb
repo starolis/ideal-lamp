{
 "cells": [
  {
   "cell_type": "markdown",
   "id": "478a603e",
   "metadata": {
    "papermill": {
     "duration": 0.005934,
     "end_time": "2023-11-08T21:05:05.020538",
     "exception": false,
     "start_time": "2023-11-08T21:05:05.014604",
     "status": "completed"
    },
    "tags": []
   },
   "source": [
    "**This notebook is an exercise in the [Python](https://www.kaggle.com/learn/python) course.  You can reference the tutorial at [this link](https://www.kaggle.com/colinmorris/hello-python).**\n",
    "\n",
    "---\n"
   ]
  },
  {
   "cell_type": "markdown",
   "id": "bce7a45d",
   "metadata": {
    "papermill": {
     "duration": 0.005021,
     "end_time": "2023-11-08T21:05:05.030905",
     "exception": false,
     "start_time": "2023-11-08T21:05:05.025884",
     "status": "completed"
    },
    "tags": []
   },
   "source": [
    "Welcome to your first set of Python coding problems.  If this is your first time using Kaggle Notebooks, welcome! \n",
    "\n",
    "Notebooks are composed of blocks (called \"cells\") of text and code. Each of these is editable, though you'll mainly be editing the code cells to answer some questions.\n",
    "\n",
    "To get started, try running the code cell below (by pressing the ► button, or clicking on the cell and pressing ctrl+enter on your keyboard)."
   ]
  },
  {
   "cell_type": "code",
   "execution_count": 1,
   "id": "89a19adb",
   "metadata": {
    "execution": {
     "iopub.execute_input": "2023-11-08T21:05:05.043315Z",
     "iopub.status.busy": "2023-11-08T21:05:05.042969Z",
     "iopub.status.idle": "2023-11-08T21:05:05.054693Z",
     "shell.execute_reply": "2023-11-08T21:05:05.053163Z"
    },
    "papermill": {
     "duration": 0.02081,
     "end_time": "2023-11-08T21:05:05.056935",
     "exception": false,
     "start_time": "2023-11-08T21:05:05.036125",
     "status": "completed"
    },
    "tags": []
   },
   "outputs": [
    {
     "name": "stdout",
     "output_type": "stream",
     "text": [
      "You've successfully run some Python code\n",
      "Congratulations!\n"
     ]
    }
   ],
   "source": [
    "print(\"You've successfully run some Python code\")\n",
    "print(\"Congratulations!\")"
   ]
  },
  {
   "cell_type": "markdown",
   "id": "232a51fb",
   "metadata": {
    "papermill": {
     "duration": 0.00582,
     "end_time": "2023-11-08T21:05:05.068831",
     "exception": false,
     "start_time": "2023-11-08T21:05:05.063011",
     "status": "completed"
    },
    "tags": []
   },
   "source": [
    "Try adding another line of code in the cell above and re-running it. \n",
    "\n",
    "Now let's get a little fancier:  Add a new code cell by clicking on an existing code cell, hitting the escape key, and then hitting the `a` or `b` key.  The `a` key will add a cell above the current cell, and `b` adds a cell below.\n",
    "\n",
    "Great! Now you know how to use Notebooks.\n",
    "\n",
    "Each hands-on exercise starts by setting up our feedback and code checking mechanism. Run the code cell below to do that. Then you'll be ready to move on to question 0."
   ]
  },
  {
   "cell_type": "code",
   "execution_count": 2,
   "id": "86949012",
   "metadata": {
    "_kg_hide-input": true,
    "_kg_hide-output": true,
    "execution": {
     "iopub.execute_input": "2023-11-08T21:05:05.084223Z",
     "iopub.status.busy": "2023-11-08T21:05:05.083514Z",
     "iopub.status.idle": "2023-11-08T21:05:05.438978Z",
     "shell.execute_reply": "2023-11-08T21:05:05.437591Z"
    },
    "papermill": {
     "duration": 0.365872,
     "end_time": "2023-11-08T21:05:05.440996",
     "exception": false,
     "start_time": "2023-11-08T21:05:05.075124",
     "status": "completed"
    },
    "tags": []
   },
   "outputs": [
    {
     "name": "stdout",
     "output_type": "stream",
     "text": [
      "Setup complete! You're ready to start question 0.\n"
     ]
    }
   ],
   "source": [
    "from learntools.core import binder; binder.bind(globals())\n",
    "from learntools.python.ex1 import *\n",
    "print(\"Setup complete! You're ready to start question 0.\")"
   ]
  },
  {
   "cell_type": "markdown",
   "id": "08c9e2ca",
   "metadata": {
    "papermill": {
     "duration": 0.005072,
     "end_time": "2023-11-08T21:05:05.451736",
     "exception": false,
     "start_time": "2023-11-08T21:05:05.446664",
     "status": "completed"
    },
    "tags": []
   },
   "source": [
    "# 0.\n",
    "\n",
    "*This is a silly question intended as an introduction to the format we use for hands-on exercises throughout all Kaggle courses.*\n",
    "\n",
    "**What is your favorite color? **\n",
    "\n",
    "To complete this question, create a variable called `color` in the cell below with an appropriate value. The function call `q0.check()` (which we've already provided in the cell below) will check your answer."
   ]
  },
  {
   "cell_type": "code",
   "execution_count": 3,
   "id": "7b09b3c3",
   "metadata": {
    "execution": {
     "iopub.execute_input": "2023-11-08T21:05:05.466911Z",
     "iopub.status.busy": "2023-11-08T21:05:05.466192Z",
     "iopub.status.idle": "2023-11-08T21:05:05.477908Z",
     "shell.execute_reply": "2023-11-08T21:05:05.476997Z"
    },
    "papermill": {
     "duration": 0.022614,
     "end_time": "2023-11-08T21:05:05.479725",
     "exception": false,
     "start_time": "2023-11-08T21:05:05.457111",
     "status": "completed"
    },
    "tags": []
   },
   "outputs": [
    {
     "data": {
      "application/javascript": [
       "parent.postMessage({\"jupyterEvent\": \"custom.exercise_interaction\", \"data\": {\"outcomeType\": 1, \"valueTowardsCompletion\": 0.25, \"interactionType\": 1, \"questionType\": 2, \"questionId\": \"0_ExerciseFormatTutorial\", \"learnToolsVersion\": \"0.3.4\", \"failureMessage\": \"\", \"exceptionClass\": \"\", \"trace\": \"\"}}, \"*\")"
      ],
      "text/plain": [
       "<IPython.core.display.Javascript object>"
      ]
     },
     "metadata": {},
     "output_type": "display_data"
    },
    {
     "data": {
      "text/markdown": [
       "<span style=\"color:#33cc33\">Correct:</span> What?! You got it right without needing a hint or anything? Drats. Well hey, you should still continue to the next step to get some practice asking for a hint and checking solutions. (Even though you obviously don't need any help here.)"
      ],
      "text/plain": [
       "Correct: What?! You got it right without needing a hint or anything? Drats. Well hey, you should still continue to the next step to get some practice asking for a hint and checking solutions. (Even though you obviously don't need any help here.)"
      ]
     },
     "metadata": {},
     "output_type": "display_data"
    }
   ],
   "source": [
    "# create a variable called color with an appropriate value on the line below\n",
    "# (Remember, strings in Python must be enclosed in 'single' or \"double\" quotes)\n",
    "____\n",
    "color = \"blue\"\n",
    "# Check your answer\n",
    "q0.check()"
   ]
  },
  {
   "cell_type": "markdown",
   "id": "6d5cf32b",
   "metadata": {
    "papermill": {
     "duration": 0.00554,
     "end_time": "2023-11-08T21:05:05.491254",
     "exception": false,
     "start_time": "2023-11-08T21:05:05.485714",
     "status": "completed"
    },
    "tags": []
   },
   "source": [
    "Didn't get the right answer? How do you not even know your own favorite color?!\n",
    "\n",
    "Delete the `#` in the line below to make one of the lines run. You can choose between getting a hint or the full answer by choosing which line to remove the `#` from. \n",
    "\n",
    "Removing the `#` is called uncommenting, because it changes that line from a \"comment\" which Python doesn't run to code, which Python does run."
   ]
  },
  {
   "cell_type": "code",
   "execution_count": 4,
   "id": "0dd949db",
   "metadata": {
    "execution": {
     "iopub.execute_input": "2023-11-08T21:05:05.504966Z",
     "iopub.status.busy": "2023-11-08T21:05:05.504306Z",
     "iopub.status.idle": "2023-11-08T21:05:05.509091Z",
     "shell.execute_reply": "2023-11-08T21:05:05.507989Z"
    },
    "papermill": {
     "duration": 0.014494,
     "end_time": "2023-11-08T21:05:05.511574",
     "exception": false,
     "start_time": "2023-11-08T21:05:05.497080",
     "status": "completed"
    },
    "tags": []
   },
   "outputs": [],
   "source": [
    "#q0.hint()\n",
    "#q0.solution()"
   ]
  },
  {
   "cell_type": "markdown",
   "id": "121c7d10",
   "metadata": {
    "papermill": {
     "duration": 0.005666,
     "end_time": "2023-11-08T21:05:05.523427",
     "exception": false,
     "start_time": "2023-11-08T21:05:05.517761",
     "status": "completed"
    },
    "tags": []
   },
   "source": [
    "The upcoming questions work the same way. The only thing that will change are the question numbers. For the next question, you'll call `q1.check()`, `q1.hint()`, `q1.solution()`, for question 2, you'll call `q2.check()`, and so on."
   ]
  },
  {
   "cell_type": "markdown",
   "id": "dde5ce4d",
   "metadata": {
    "papermill": {
     "duration": 0.005554,
     "end_time": "2023-11-08T21:05:05.535011",
     "exception": false,
     "start_time": "2023-11-08T21:05:05.529457",
     "status": "completed"
    },
    "tags": []
   },
   "source": [
    "<hr/>\n",
    "\n",
    "# 1.\n",
    "\n",
    "Complete the code below. In case it's helpful, here is the table of available arithmetic operations:\n",
    "\n",
    "\n",
    "\n",
    "| Operator     | Name           | Description                                            |\n",
    "|--------------|----------------|--------------------------------------------------------|\n",
    "| ``a + b``    | Addition       | Sum of ``a`` and ``b``                                 |\n",
    "| ``a - b``    | Subtraction    | Difference of ``a`` and ``b``                          |\n",
    "| ``a * b``    | Multiplication | Product of ``a`` and ``b``                             |\n",
    "| ``a / b``    | True division  | Quotient of ``a`` and ``b``                            |\n",
    "| ``a // b``   | Floor division | Quotient of ``a`` and ``b``, removing fractional parts |\n",
    "| ``a % b``    | Modulus        | Integer remainder after division of ``a`` by ``b``     |\n",
    "| ``a ** b``   | Exponentiation | ``a`` raised to the power of ``b``                     |\n",
    "| ``-a``       | Negation       | The negative of ``a``                                  |\n",
    "\n",
    "<span style=\"display:none\"></span>\n"
   ]
  },
  {
   "cell_type": "code",
   "execution_count": 5,
   "id": "9c032c1f",
   "metadata": {
    "execution": {
     "iopub.execute_input": "2023-11-08T21:05:05.549027Z",
     "iopub.status.busy": "2023-11-08T21:05:05.548361Z",
     "iopub.status.idle": "2023-11-08T21:05:05.555041Z",
     "shell.execute_reply": "2023-11-08T21:05:05.554410Z"
    },
    "papermill": {
     "duration": 0.016635,
     "end_time": "2023-11-08T21:05:05.557365",
     "exception": false,
     "start_time": "2023-11-08T21:05:05.540730",
     "status": "completed"
    },
    "tags": []
   },
   "outputs": [
    {
     "data": {
      "application/javascript": [
       "parent.postMessage({\"jupyterEvent\": \"custom.exercise_interaction\", \"data\": {\"outcomeType\": 1, \"valueTowardsCompletion\": 0.25, \"interactionType\": 1, \"questionType\": 1, \"questionId\": \"1_CircleArea\", \"learnToolsVersion\": \"0.3.4\", \"failureMessage\": \"\", \"exceptionClass\": \"\", \"trace\": \"\"}}, \"*\")"
      ],
      "text/plain": [
       "<IPython.core.display.Javascript object>"
      ]
     },
     "metadata": {},
     "output_type": "display_data"
    },
    {
     "data": {
      "text/markdown": [
       "<span style=\"color:#33cc33\">Correct</span>"
      ],
      "text/plain": [
       "Correct"
      ]
     },
     "metadata": {},
     "output_type": "display_data"
    }
   ],
   "source": [
    "pi = 3.14159 # approximate\n",
    "diameter = 3\n",
    "\n",
    "# Create a variable called 'radius' equal to half the diameter\n",
    "radius = diameter / 2\n",
    "\n",
    "# Create a variable called 'area', using the formula for the area of a circle: pi times the radius squared\n",
    "area = pi * (radius**2)\n",
    "\n",
    "# Check your answer\n",
    "q1.check()"
   ]
  },
  {
   "cell_type": "code",
   "execution_count": 6,
   "id": "0e715c75",
   "metadata": {
    "execution": {
     "iopub.execute_input": "2023-11-08T21:05:05.572538Z",
     "iopub.status.busy": "2023-11-08T21:05:05.571875Z",
     "iopub.status.idle": "2023-11-08T21:05:05.575724Z",
     "shell.execute_reply": "2023-11-08T21:05:05.574716Z"
    },
    "papermill": {
     "duration": 0.013916,
     "end_time": "2023-11-08T21:05:05.577797",
     "exception": false,
     "start_time": "2023-11-08T21:05:05.563881",
     "status": "completed"
    },
    "tags": []
   },
   "outputs": [],
   "source": [
    "# Uncomment and run the lines below if you need help.\n",
    "#q1.hint()\n",
    "#q1.solution()"
   ]
  },
  {
   "cell_type": "markdown",
   "id": "2a0ad00e",
   "metadata": {
    "papermill": {
     "duration": 0.005615,
     "end_time": "2023-11-08T21:05:05.589532",
     "exception": false,
     "start_time": "2023-11-08T21:05:05.583917",
     "status": "completed"
    },
    "tags": []
   },
   "source": [
    "<hr/>\n",
    "\n",
    "# 2.\n",
    "\n",
    "Add code to the following cell to swap variables `a` and `b` (so that `a` refers to the object previously referred to by `b` and vice versa)."
   ]
  },
  {
   "cell_type": "code",
   "execution_count": 7,
   "id": "87d9e4f6",
   "metadata": {
    "execution": {
     "iopub.execute_input": "2023-11-08T21:05:05.604419Z",
     "iopub.status.busy": "2023-11-08T21:05:05.604035Z",
     "iopub.status.idle": "2023-11-08T21:05:05.613263Z",
     "shell.execute_reply": "2023-11-08T21:05:05.611784Z"
    },
    "papermill": {
     "duration": 0.0192,
     "end_time": "2023-11-08T21:05:05.615480",
     "exception": false,
     "start_time": "2023-11-08T21:05:05.596280",
     "status": "completed"
    },
    "tags": []
   },
   "outputs": [
    {
     "data": {
      "application/javascript": [
       "parent.postMessage({\"jupyterEvent\": \"custom.exercise_interaction\", \"data\": {\"outcomeType\": 1, \"valueTowardsCompletion\": 0.25, \"interactionType\": 1, \"questionType\": 2, \"questionId\": \"2_VariableSwap\", \"learnToolsVersion\": \"0.3.4\", \"failureMessage\": \"\", \"exceptionClass\": \"\", \"trace\": \"\"}}, \"*\")"
      ],
      "text/plain": [
       "<IPython.core.display.Javascript object>"
      ]
     },
     "metadata": {},
     "output_type": "display_data"
    },
    {
     "data": {
      "text/markdown": [
       "<span style=\"color:#33cc33\">Correct:</span> \n",
       "\n",
       "The most straightforward solution is to use a third variable to temporarily store one of the old values. e.g.:\n",
       "\n",
       "    tmp = a\n",
       "    a = b\n",
       "    b = tmp\n",
       "\n",
       "If you've read lots of Python code, you might have seen the following trick to swap two variables in one line:\n",
       "\n",
       "    a, b = b, a\n",
       "\n",
       "We'll demystify this bit of Python magic later when we talk about *tuples*."
      ],
      "text/plain": [
       "Correct: \n",
       "\n",
       "The most straightforward solution is to use a third variable to temporarily store one of the old values. e.g.:\n",
       "\n",
       "    tmp = a\n",
       "    a = b\n",
       "    b = tmp\n",
       "\n",
       "If you've read lots of Python code, you might have seen the following trick to swap two variables in one line:\n",
       "\n",
       "    a, b = b, a\n",
       "\n",
       "We'll demystify this bit of Python magic later when we talk about *tuples*."
      ]
     },
     "metadata": {},
     "output_type": "display_data"
    }
   ],
   "source": [
    "########### Setup code - don't touch this part ######################\n",
    "# If you're curious, these are examples of lists. We'll talk about \n",
    "# them in depth a few lessons from now. For now, just know that they're\n",
    "# yet another type of Python object, like int or float.\n",
    "a = [1, 2, 3]\n",
    "b = [3, 2, 1]\n",
    "q2.store_original_ids()\n",
    "######################################################################\n",
    "'''\n",
    "temp = a\n",
    "a = b\n",
    "b = temp\n",
    "'''\n",
    "a, b = b, a\n",
    "\n",
    "######################################################################\n",
    "\n",
    "# Check your answer\n",
    "q2.check()"
   ]
  },
  {
   "cell_type": "code",
   "execution_count": 8,
   "id": "658c953f",
   "metadata": {
    "execution": {
     "iopub.execute_input": "2023-11-08T21:05:05.630239Z",
     "iopub.status.busy": "2023-11-08T21:05:05.629864Z",
     "iopub.status.idle": "2023-11-08T21:05:05.634585Z",
     "shell.execute_reply": "2023-11-08T21:05:05.633190Z"
    },
    "papermill": {
     "duration": 0.014772,
     "end_time": "2023-11-08T21:05:05.637076",
     "exception": false,
     "start_time": "2023-11-08T21:05:05.622304",
     "status": "completed"
    },
    "tags": []
   },
   "outputs": [],
   "source": [
    "#q2.hint()"
   ]
  },
  {
   "cell_type": "code",
   "execution_count": 9,
   "id": "830cc7bd",
   "metadata": {
    "execution": {
     "iopub.execute_input": "2023-11-08T21:05:05.652136Z",
     "iopub.status.busy": "2023-11-08T21:05:05.651466Z",
     "iopub.status.idle": "2023-11-08T21:05:05.655962Z",
     "shell.execute_reply": "2023-11-08T21:05:05.654839Z"
    },
    "papermill": {
     "duration": 0.01457,
     "end_time": "2023-11-08T21:05:05.658354",
     "exception": false,
     "start_time": "2023-11-08T21:05:05.643784",
     "status": "completed"
    },
    "tags": []
   },
   "outputs": [],
   "source": [
    "#q2.solution()"
   ]
  },
  {
   "cell_type": "markdown",
   "id": "b11d706c",
   "metadata": {
    "papermill": {
     "duration": 0.006082,
     "end_time": "2023-11-08T21:05:05.671175",
     "exception": false,
     "start_time": "2023-11-08T21:05:05.665093",
     "status": "completed"
    },
    "tags": []
   },
   "source": [
    "<hr/>\n",
    "\n",
    "# 3a.\n",
    "\n",
    "Add parentheses to the following expression so that it evaluates to 1."
   ]
  },
  {
   "cell_type": "code",
   "execution_count": 10,
   "id": "7dda6c89",
   "metadata": {
    "execution": {
     "iopub.execute_input": "2023-11-08T21:05:05.686932Z",
     "iopub.status.busy": "2023-11-08T21:05:05.686267Z",
     "iopub.status.idle": "2023-11-08T21:05:05.691975Z",
     "shell.execute_reply": "2023-11-08T21:05:05.691301Z"
    },
    "papermill": {
     "duration": 0.015183,
     "end_time": "2023-11-08T21:05:05.693716",
     "exception": false,
     "start_time": "2023-11-08T21:05:05.678533",
     "status": "completed"
    },
    "tags": []
   },
   "outputs": [
    {
     "data": {
      "text/plain": [
       "1"
      ]
     },
     "execution_count": 10,
     "metadata": {},
     "output_type": "execute_result"
    }
   ],
   "source": [
    "(5 - 3) // 2"
   ]
  },
  {
   "cell_type": "code",
   "execution_count": 11,
   "id": "84d0ac0e",
   "metadata": {
    "execution": {
     "iopub.execute_input": "2023-11-08T21:05:05.708294Z",
     "iopub.status.busy": "2023-11-08T21:05:05.707695Z",
     "iopub.status.idle": "2023-11-08T21:05:05.711716Z",
     "shell.execute_reply": "2023-11-08T21:05:05.710934Z"
    },
    "papermill": {
     "duration": 0.013317,
     "end_time": "2023-11-08T21:05:05.713474",
     "exception": false,
     "start_time": "2023-11-08T21:05:05.700157",
     "status": "completed"
    },
    "tags": []
   },
   "outputs": [],
   "source": [
    "#q3.a.hint()"
   ]
  },
  {
   "cell_type": "code",
   "execution_count": 12,
   "id": "bfe4776e",
   "metadata": {
    "execution": {
     "iopub.execute_input": "2023-11-08T21:05:05.727599Z",
     "iopub.status.busy": "2023-11-08T21:05:05.727052Z",
     "iopub.status.idle": "2023-11-08T21:05:05.733984Z",
     "shell.execute_reply": "2023-11-08T21:05:05.733397Z"
    },
    "papermill": {
     "duration": 0.015913,
     "end_time": "2023-11-08T21:05:05.735740",
     "exception": false,
     "start_time": "2023-11-08T21:05:05.719827",
     "status": "completed"
    },
    "tags": []
   },
   "outputs": [
    {
     "data": {
      "application/javascript": [
       "parent.postMessage({\"jupyterEvent\": \"custom.exercise_interaction\", \"data\": {\"interactionType\": 3, \"questionType\": 4, \"questionId\": \"3.1_ArithmeticParensEasy\", \"learnToolsVersion\": \"0.3.4\", \"valueTowardsCompletion\": 0.0, \"failureMessage\": \"\", \"exceptionClass\": \"\", \"trace\": \"\", \"outcomeType\": 4}}, \"*\")"
      ],
      "text/plain": [
       "<IPython.core.display.Javascript object>"
      ]
     },
     "metadata": {},
     "output_type": "display_data"
    },
    {
     "data": {
      "text/markdown": [
       "<span style=\"color:#33cc99\">Solution:</span> \n",
       "```python\n",
       "(5 - 3) // 2\n",
       "```"
      ],
      "text/plain": [
       "Solution: \n",
       "```python\n",
       "(5 - 3) // 2\n",
       "```"
      ]
     },
     "metadata": {},
     "output_type": "display_data"
    }
   ],
   "source": [
    "# Check your answer (Run this code cell to receive credit!)\n",
    "q3.a.solution()"
   ]
  },
  {
   "cell_type": "markdown",
   "id": "70457af5",
   "metadata": {
    "papermill": {
     "duration": 0.006306,
     "end_time": "2023-11-08T21:05:05.748771",
     "exception": false,
     "start_time": "2023-11-08T21:05:05.742465",
     "status": "completed"
    },
    "tags": []
   },
   "source": [
    "# 3b.  <span title=\"A bit spicy\" style=\"color: darkgreen \">🌶️</span>\n",
    "\n",
    "<small>Questions, like this one, marked a spicy pepper are a bit harder.</small>\n",
    "\n",
    "Add parentheses to the following expression so that it evaluates to 0."
   ]
  },
  {
   "cell_type": "code",
   "execution_count": 13,
   "id": "e3406576",
   "metadata": {
    "execution": {
     "iopub.execute_input": "2023-11-08T21:05:05.763986Z",
     "iopub.status.busy": "2023-11-08T21:05:05.763308Z",
     "iopub.status.idle": "2023-11-08T21:05:05.770688Z",
     "shell.execute_reply": "2023-11-08T21:05:05.769484Z"
    },
    "papermill": {
     "duration": 0.017818,
     "end_time": "2023-11-08T21:05:05.773137",
     "exception": false,
     "start_time": "2023-11-08T21:05:05.755319",
     "status": "completed"
    },
    "tags": []
   },
   "outputs": [
    {
     "data": {
      "text/plain": [
       "0"
      ]
     },
     "execution_count": 13,
     "metadata": {},
     "output_type": "execute_result"
    }
   ],
   "source": [
    "(8 - 3) * (2 - (1 + 1))"
   ]
  },
  {
   "cell_type": "code",
   "execution_count": 14,
   "id": "09008286",
   "metadata": {
    "execution": {
     "iopub.execute_input": "2023-11-08T21:05:05.789553Z",
     "iopub.status.busy": "2023-11-08T21:05:05.788436Z",
     "iopub.status.idle": "2023-11-08T21:05:05.793178Z",
     "shell.execute_reply": "2023-11-08T21:05:05.792090Z"
    },
    "papermill": {
     "duration": 0.01516,
     "end_time": "2023-11-08T21:05:05.795439",
     "exception": false,
     "start_time": "2023-11-08T21:05:05.780279",
     "status": "completed"
    },
    "tags": []
   },
   "outputs": [],
   "source": [
    "#q3.b.hint()"
   ]
  },
  {
   "cell_type": "code",
   "execution_count": 15,
   "id": "3b2d8f1f",
   "metadata": {
    "execution": {
     "iopub.execute_input": "2023-11-08T21:05:05.812724Z",
     "iopub.status.busy": "2023-11-08T21:05:05.811832Z",
     "iopub.status.idle": "2023-11-08T21:05:05.822384Z",
     "shell.execute_reply": "2023-11-08T21:05:05.820883Z"
    },
    "papermill": {
     "duration": 0.022509,
     "end_time": "2023-11-08T21:05:05.825295",
     "exception": false,
     "start_time": "2023-11-08T21:05:05.802786",
     "status": "completed"
    },
    "tags": []
   },
   "outputs": [
    {
     "data": {
      "application/javascript": [
       "parent.postMessage({\"jupyterEvent\": \"custom.exercise_interaction\", \"data\": {\"interactionType\": 3, \"questionType\": 4, \"questionId\": \"3.2_ArithmeticParensHard\", \"learnToolsVersion\": \"0.3.4\", \"valueTowardsCompletion\": 0.0, \"failureMessage\": \"\", \"exceptionClass\": \"\", \"trace\": \"\", \"outcomeType\": 4}}, \"*\")"
      ],
      "text/plain": [
       "<IPython.core.display.Javascript object>"
      ]
     },
     "metadata": {},
     "output_type": "display_data"
    },
    {
     "data": {
      "text/markdown": [
       "<span style=\"color:#33cc99\">Solution:</span> `(8 - 3) * (2 - (1 + 1))` is one solution. There may be others."
      ],
      "text/plain": [
       "Solution: `(8 - 3) * (2 - (1 + 1))` is one solution. There may be others."
      ]
     },
     "metadata": {},
     "output_type": "display_data"
    }
   ],
   "source": [
    "# Check your answer (Run this code cell to receive credit!)\n",
    "q3.b.solution()"
   ]
  },
  {
   "cell_type": "markdown",
   "id": "2b4e1738",
   "metadata": {
    "papermill": {
     "duration": 0.006828,
     "end_time": "2023-11-08T21:05:05.839522",
     "exception": false,
     "start_time": "2023-11-08T21:05:05.832694",
     "status": "completed"
    },
    "tags": []
   },
   "source": [
    "<hr/>\n",
    "\n",
    "# 4. \n",
    "Alice, Bob and Carol have agreed to pool their Halloween candy and split it evenly among themselves.\n",
    "For the sake of their friendship, any candies left over will be smashed. For example, if they collectively\n",
    "bring home 91 candies, they'll take 30 each and smash 1.\n",
    "\n",
    "Write an arithmetic expression below to calculate how many candies they must smash for a given haul."
   ]
  },
  {
   "cell_type": "code",
   "execution_count": 16,
   "id": "c71e9b58",
   "metadata": {
    "execution": {
     "iopub.execute_input": "2023-11-08T21:05:05.856217Z",
     "iopub.status.busy": "2023-11-08T21:05:05.855663Z",
     "iopub.status.idle": "2023-11-08T21:05:05.863180Z",
     "shell.execute_reply": "2023-11-08T21:05:05.862238Z"
    },
    "papermill": {
     "duration": 0.018334,
     "end_time": "2023-11-08T21:05:05.865429",
     "exception": false,
     "start_time": "2023-11-08T21:05:05.847095",
     "status": "completed"
    },
    "tags": []
   },
   "outputs": [
    {
     "data": {
      "application/javascript": [
       "parent.postMessage({\"jupyterEvent\": \"custom.exercise_interaction\", \"data\": {\"outcomeType\": 1, \"valueTowardsCompletion\": 0.25, \"interactionType\": 1, \"questionType\": 1, \"questionId\": \"4_CandySplitting\", \"learnToolsVersion\": \"0.3.4\", \"failureMessage\": \"\", \"exceptionClass\": \"\", \"trace\": \"\"}}, \"*\")"
      ],
      "text/plain": [
       "<IPython.core.display.Javascript object>"
      ]
     },
     "metadata": {},
     "output_type": "display_data"
    },
    {
     "data": {
      "text/markdown": [
       "<span style=\"color:#33cc33\">Correct</span>"
      ],
      "text/plain": [
       "Correct"
      ]
     },
     "metadata": {},
     "output_type": "display_data"
    }
   ],
   "source": [
    "# Variables representing the number of candies collected by alice, bob, and carol\n",
    "alice_candies = 121\n",
    "bob_candies = 77\n",
    "carol_candies = 109\n",
    "\n",
    "# Your code goes here! Replace the right-hand side of this assignment with an expression\n",
    "# involving alice_candies, bob_candies, and carol_candies\n",
    "to_smash = (alice_candies + bob_candies + carol_candies) % 3\n",
    "\n",
    "# Check your answer\n",
    "q4.check()"
   ]
  },
  {
   "cell_type": "code",
   "execution_count": 17,
   "id": "969577d6",
   "metadata": {
    "execution": {
     "iopub.execute_input": "2023-11-08T21:05:05.882949Z",
     "iopub.status.busy": "2023-11-08T21:05:05.882613Z",
     "iopub.status.idle": "2023-11-08T21:05:05.886827Z",
     "shell.execute_reply": "2023-11-08T21:05:05.885529Z"
    },
    "papermill": {
     "duration": 0.015932,
     "end_time": "2023-11-08T21:05:05.889173",
     "exception": false,
     "start_time": "2023-11-08T21:05:05.873241",
     "status": "completed"
    },
    "tags": []
   },
   "outputs": [],
   "source": [
    "#q4.hint()\n",
    "#q4.solution()"
   ]
  },
  {
   "cell_type": "markdown",
   "id": "7d005f56",
   "metadata": {
    "papermill": {
     "duration": 0.007221,
     "end_time": "2023-11-08T21:05:05.904108",
     "exception": false,
     "start_time": "2023-11-08T21:05:05.896887",
     "status": "completed"
    },
    "tags": []
   },
   "source": [
    "# Keep Going\n",
    "\n",
    "Next up, you'll **[learn to write new functions and understand functions others write](https://www.kaggle.com/colinmorris/functions-and-getting-help)**. This will make you at least 10 times more productive as a Python programmer. "
   ]
  },
  {
   "cell_type": "markdown",
   "id": "a713ffcd",
   "metadata": {
    "papermill": {
     "duration": 0.007069,
     "end_time": "2023-11-08T21:05:05.918361",
     "exception": false,
     "start_time": "2023-11-08T21:05:05.911292",
     "status": "completed"
    },
    "tags": []
   },
   "source": [
    "---\n",
    "\n",
    "\n",
    "\n",
    "\n",
    "*Have questions or comments? Visit the [course discussion forum](https://www.kaggle.com/learn/python/discussion) to chat with other learners.*"
   ]
  }
 ],
 "metadata": {
  "kernelspec": {
   "display_name": "Python 3",
   "language": "python",
   "name": "python3"
  },
  "language_info": {
   "codemirror_mode": {
    "name": "ipython",
    "version": 3
   },
   "file_extension": ".py",
   "mimetype": "text/x-python",
   "name": "python",
   "nbconvert_exporter": "python",
   "pygments_lexer": "ipython3",
   "version": "3.10.12"
  },
  "papermill": {
   "default_parameters": {},
   "duration": 4.259726,
   "end_time": "2023-11-08T21:05:06.346303",
   "environment_variables": {},
   "exception": null,
   "input_path": "__notebook__.ipynb",
   "output_path": "__notebook__.ipynb",
   "parameters": {},
   "start_time": "2023-11-08T21:05:02.086577",
   "version": "2.4.0"
  }
 },
 "nbformat": 4,
 "nbformat_minor": 5
}
