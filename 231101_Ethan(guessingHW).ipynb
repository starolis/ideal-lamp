{
  "nbformat": 4,
  "nbformat_minor": 0,
  "metadata": {
    "colab": {
      "provenance": [],
      "authorship_tag": "ABX9TyOEZ2mT5wqPZ5zmrPxrlZGk",
      "include_colab_link": true
    },
    "kernelspec": {
      "name": "python3",
      "display_name": "Python 3"
    },
    "language_info": {
      "name": "python"
    }
  },
  "cells": [
    {
      "cell_type": "markdown",
      "metadata": {
        "id": "view-in-github",
        "colab_type": "text"
      },
      "source": [
        "<a href=\"https://colab.research.google.com/github/starolis/ideal-lamp/blob/merge/231101_Ethan(guessingHW).ipynb\" target=\"_parent\"><img src=\"https://colab.research.google.com/assets/colab-badge.svg\" alt=\"Open In Colab\"/></a>"
      ]
    },
    {
      "cell_type": "code",
      "execution_count": null,
      "metadata": {
        "id": "I0U8HdAXZXWQ"
      },
      "outputs": [],
      "source": [
        "import random\n",
        "\n",
        "secret_number = random.randint(1, 200)\n",
        "\n",
        "guesses = 0\n",
        "\n",
        "# Guesses is such a weirdly spelt word it makes sense but god did messing with this make me question it.\n",
        "\n",
        "print(\"Number Guessing Game.\")\n",
        "print(\"Our number is between 1 and 200.\")\n",
        "\n",
        "\n",
        "\n",
        "while True:\n",
        "    try:\n",
        "        guess = int(input(\"Take a guess: \"))\n",
        "        guesses += 1\n",
        "        if guess < secret_number:\n",
        "            print(\"Too little...\")\n",
        "        elif guess > secret_number:\n",
        "            print(\"Too high...\")\n",
        "        else:\n",
        "            if guesses > 1:\n",
        "                print(f\"You stumbled into the number in {guesses} attempts.\")\n",
        "            else:\n",
        "                print(f\"You got it in one go, how fortunate.\")\n",
        "            break\n",
        "    except ValueError:\n",
        "        print(\"Really?\")\n",
        "\n",
        "# Instead of printing an error it is a bad sport.\n",
        "print(\"Thanks for playing, I suppose\")"
      ]
    }
  ]
}