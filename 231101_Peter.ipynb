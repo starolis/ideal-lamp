{
  "nbformat": 4,
  "nbformat_minor": 0,
  "metadata": {
    "colab": {
      "provenance": [],
      "toc_visible": true,
      "authorship_tag": "ABX9TyNqwiKvtXhmRW9ivKKHHLNM",
      "include_colab_link": true
    },
    "kernelspec": {
      "name": "python3",
      "display_name": "Python 3"
    },
    "language_info": {
      "name": "python"
    }
  },
  "cells": [
    {
      "cell_type": "markdown",
      "metadata": {
        "id": "view-in-github",
        "colab_type": "text"
      },
      "source": [
        "<a href=\"https://colab.research.google.com/github/starolis/ideal-lamp/blob/main/231101_Peter.ipynb\" target=\"_parent\"><img src=\"https://colab.research.google.com/assets/colab-badge.svg\" alt=\"Open In Colab\"/></a>"
      ]
    },
    {
      "cell_type": "markdown",
      "source": [
        "Hey Peter here's the sample code I'd like you to improve:"
      ],
      "metadata": {
        "id": "AStY0LBONPn8"
      }
    },
    {
      "cell_type": "code",
      "execution_count": null,
      "metadata": {
        "colab": {
          "base_uri": "https://localhost:8080/"
        },
        "id": "PobvujW8M69a",
        "outputId": "7f1ecc6a-1391-4804-f945-e93f286f9fca"
      },
      "outputs": [
        {
          "output_type": "stream",
          "name": "stdout",
          "text": [
            "Welcome to the most magic 8-ball you've ever held\n",
            "What question ails you my friend? nothing\n",
            "Ok, I understand that your question is: nothing\n",
            "Yes, No, Maybe So\n"
          ]
        }
      ],
      "source": [
        "import random\n",
        "\n",
        "responses = [\"Strong Maybe\", \"Yes, No, Maybe So\", \"Probably not yesterday\",\n",
        "             \"Definite Yes\", \"Stop even questioning it\", \"Hard pass\",\n",
        "             \"Nah fam, not even\", \"Absolutely not\", \"Never\", \"Idiot!\",\n",
        "             \"Is that really what keeps you up?\", \"How trivial your concern\",\n",
        "             \"This is beneath me\", \"I lied about no dumb questions\", \"Buffoonary!\",\n",
        "             \"Sorta, I think\", \".\", \"😂\", \"Definite Yes\"]\n",
        "\n",
        "print(\"Welcome to the most magic 8-ball you've ever held\")\n",
        "user_question = input(\"What question ails you my friend? \")\n",
        "print(f\"Ok, I understand that your question is: {user_question}\")\n",
        "print(random.choice(responses))"
      ]
    }
  ]
}